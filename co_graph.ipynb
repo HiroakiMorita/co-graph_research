{
  "nbformat": 4,
  "nbformat_minor": 0,
  "metadata": {
    "colab": {
      "name": "co-graph.ipynb",
      "provenance": [],
      "collapsed_sections": [],
      "authorship_tag": "ABX9TyMqNKvl9kSkCRyAKjbJd6us",
      "include_colab_link": true
    },
    "kernelspec": {
      "name": "python3",
      "display_name": "Python 3"
    },
    "language_info": {
      "name": "python"
    }
  },
  "cells": [
    {
      "cell_type": "markdown",
      "metadata": {
        "id": "view-in-github",
        "colab_type": "text"
      },
      "source": [
        "<a href=\"https://colab.research.google.com/github/HiroakiMorita/co-graph_research/blob/main/co_graph.ipynb\" target=\"_parent\"><img src=\"https://colab.research.google.com/assets/colab-badge.svg\" alt=\"Open In Colab\"/></a>"
      ]
    },
    {
      "cell_type": "code",
      "metadata": {
        "colab": {
          "base_uri": "https://localhost:8080/"
        },
        "id": "MAln9NrCPpP6",
        "outputId": "0b6222d0-760b-4f6e-d2c7-f57282b720e7"
      },
      "source": [
        "pip install mecab-python3"
      ],
      "execution_count": 2,
      "outputs": [
        {
          "output_type": "stream",
          "text": [
            "Collecting mecab-python3\n",
            "\u001b[?25l  Downloading https://files.pythonhosted.org/packages/c1/72/20f8f60b858556fdff6c0376b480c230e594621fff8be780603ac9c47f6a/mecab_python3-1.0.3-cp37-cp37m-manylinux1_x86_64.whl (487kB)\n",
            "\r\u001b[K     |▊                               | 10kB 16.3MB/s eta 0:00:01\r\u001b[K     |█▍                              | 20kB 16.7MB/s eta 0:00:01\r\u001b[K     |██                              | 30kB 10.0MB/s eta 0:00:01\r\u001b[K     |██▊                             | 40kB 8.0MB/s eta 0:00:01\r\u001b[K     |███▍                            | 51kB 4.2MB/s eta 0:00:01\r\u001b[K     |████                            | 61kB 5.0MB/s eta 0:00:01\r\u001b[K     |████▊                           | 71kB 5.0MB/s eta 0:00:01\r\u001b[K     |█████▍                          | 81kB 5.3MB/s eta 0:00:01\r\u001b[K     |██████                          | 92kB 5.8MB/s eta 0:00:01\r\u001b[K     |██████▊                         | 102kB 5.9MB/s eta 0:00:01\r\u001b[K     |███████▍                        | 112kB 5.9MB/s eta 0:00:01\r\u001b[K     |████████                        | 122kB 5.9MB/s eta 0:00:01\r\u001b[K     |████████▊                       | 133kB 5.9MB/s eta 0:00:01\r\u001b[K     |█████████▍                      | 143kB 5.9MB/s eta 0:00:01\r\u001b[K     |██████████                      | 153kB 5.9MB/s eta 0:00:01\r\u001b[K     |██████████▊                     | 163kB 5.9MB/s eta 0:00:01\r\u001b[K     |███████████▍                    | 174kB 5.9MB/s eta 0:00:01\r\u001b[K     |████████████                    | 184kB 5.9MB/s eta 0:00:01\r\u001b[K     |████████████▊                   | 194kB 5.9MB/s eta 0:00:01\r\u001b[K     |█████████████▍                  | 204kB 5.9MB/s eta 0:00:01\r\u001b[K     |██████████████                  | 215kB 5.9MB/s eta 0:00:01\r\u001b[K     |██████████████▊                 | 225kB 5.9MB/s eta 0:00:01\r\u001b[K     |███████████████▌                | 235kB 5.9MB/s eta 0:00:01\r\u001b[K     |████████████████▏               | 245kB 5.9MB/s eta 0:00:01\r\u001b[K     |████████████████▉               | 256kB 5.9MB/s eta 0:00:01\r\u001b[K     |█████████████████▌              | 266kB 5.9MB/s eta 0:00:01\r\u001b[K     |██████████████████▏             | 276kB 5.9MB/s eta 0:00:01\r\u001b[K     |██████████████████▉             | 286kB 5.9MB/s eta 0:00:01\r\u001b[K     |███████████████████▌            | 296kB 5.9MB/s eta 0:00:01\r\u001b[K     |████████████████████▏           | 307kB 5.9MB/s eta 0:00:01\r\u001b[K     |████████████████████▉           | 317kB 5.9MB/s eta 0:00:01\r\u001b[K     |█████████████████████▌          | 327kB 5.9MB/s eta 0:00:01\r\u001b[K     |██████████████████████▏         | 337kB 5.9MB/s eta 0:00:01\r\u001b[K     |██████████████████████▉         | 348kB 5.9MB/s eta 0:00:01\r\u001b[K     |███████████████████████▌        | 358kB 5.9MB/s eta 0:00:01\r\u001b[K     |████████████████████████▏       | 368kB 5.9MB/s eta 0:00:01\r\u001b[K     |████████████████████████▉       | 378kB 5.9MB/s eta 0:00:01\r\u001b[K     |█████████████████████████▌      | 389kB 5.9MB/s eta 0:00:01\r\u001b[K     |██████████████████████████▏     | 399kB 5.9MB/s eta 0:00:01\r\u001b[K     |██████████████████████████▉     | 409kB 5.9MB/s eta 0:00:01\r\u001b[K     |███████████████████████████▌    | 419kB 5.9MB/s eta 0:00:01\r\u001b[K     |████████████████████████████▏   | 430kB 5.9MB/s eta 0:00:01\r\u001b[K     |████████████████████████████▉   | 440kB 5.9MB/s eta 0:00:01\r\u001b[K     |█████████████████████████████▌  | 450kB 5.9MB/s eta 0:00:01\r\u001b[K     |██████████████████████████████▏ | 460kB 5.9MB/s eta 0:00:01\r\u001b[K     |███████████████████████████████ | 471kB 5.9MB/s eta 0:00:01\r\u001b[K     |███████████████████████████████▋| 481kB 5.9MB/s eta 0:00:01\r\u001b[K     |████████████████████████████████| 491kB 5.9MB/s \n",
            "\u001b[?25hInstalling collected packages: mecab-python3\n",
            "Successfully installed mecab-python3-1.0.3\n"
          ],
          "name": "stdout"
        }
      ]
    },
    {
      "cell_type": "code",
      "metadata": {
        "id": "SoM4GhqcJLWh"
      },
      "source": [
        "import requests\n",
        "from bs4 import BeautifulSoup # HTMLファイルから情報を抜き出す\n",
        "import collections # リストやイテレータからすべての値の出現回数をカウント\n",
        "from wordcloud import WordCloud # wordを可視化する\n",
        "import MeCab # 自然言語処理で必要"
      ],
      "execution_count": 3,
      "outputs": []
    },
    {
      "cell_type": "markdown",
      "metadata": {
        "id": "boCCa-V6kCBF"
      },
      "source": [
        "### サイトからスクレイピングする"
      ]
    },
    {
      "cell_type": "code",
      "metadata": {
        "id": "W6yKnOh5PUtU"
      },
      "source": [
        "site_green = requests.get('https://www.green-japan.com/company/2469?case=login')\n",
        "# print(site_green.text)\n",
        "green_page = BeautifulSoup(site_green.text, 'html.parser')\n",
        "# print(green_page.text)\n",
        "# green_page = print(green_page.text)\n",
        "# green_page"
      ],
      "execution_count": 5,
      "outputs": []
    },
    {
      "cell_type": "code",
      "metadata": {
        "id": "ol0dSE9oQPz9"
      },
      "source": [
        "\n",
        "site_wantedly = requests.get('https://www.wantedly.com/companies/co-graph')\n",
        "# print(site_wantedly.text)\n",
        "wantedly_page = BeautifulSoup(site_wantedly.text, 'html.parser')\n",
        "# print(wantedly_page.text)\n",
        "# wantedly_page = print(wantedly_page.text)\n",
        "# wantedly_page"
      ],
      "execution_count": 7,
      "outputs": []
    },
    {
      "cell_type": "code",
      "metadata": {
        "id": "zmBI8JSEQ8Xc"
      },
      "source": [
        "\n",
        "site_wantedly_story = requests.get('https://www.wantedly.com/companies/co-graph/feed')\n",
        "# print(site_wantedly_story.text)\n",
        "wantedly_story_page = BeautifulSoup(site_wantedly_story.text, 'html.parser')\n",
        "# print(wantedly_story_page.text)\n",
        "# wantedly_story_page = print(wantedly_story_page.text)\n",
        "# wantedly_story_page"
      ],
      "execution_count": 9,
      "outputs": []
    },
    {
      "cell_type": "markdown",
      "metadata": {
        "id": "JwldPRv4kJNs"
      },
      "source": [
        "### MeCabをインスタンス化"
      ]
    },
    {
      "cell_type": "code",
      "metadata": {
        "colab": {
          "base_uri": "https://localhost:8080/",
          "height": 559
        },
        "id": "mHlmij89RTkJ",
        "outputId": "cdd41c12-76a5-4e9c-8177-97e16df5c139"
      },
      "source": [
        "mecab = MeCab.Tagger(\"-Owakati\")"
      ],
      "execution_count": 11,
      "outputs": [
        {
          "output_type": "stream",
          "text": [
            "----------------------------------------------------------\n"
          ],
          "name": "stdout"
        },
        {
          "output_type": "stream",
          "text": [
            "\n",
            "Failed initializing MeCab. Please see the README for possible solutions:\n",
            "\n",
            "    https://github.com/SamuraiT/mecab-python3#common-issues\n",
            "\n",
            "If you are still having trouble, please file an issue here, and include the\n",
            "ERROR DETAILS below:\n",
            "\n",
            "    https://github.com/SamuraiT/mecab-python3/issues\n",
            "\n",
            "issueを英語で書く必要はありません。\n",
            "\n",
            "------------------- ERROR DETAILS ------------------------\n",
            "arguments: -Owakati\n",
            "error message: [ifs] no such file or directory: /usr/local/etc/mecabrc\n"
          ],
          "name": "stderr"
        },
        {
          "output_type": "error",
          "ename": "RuntimeError",
          "evalue": "ignored",
          "traceback": [
            "\u001b[0;31m---------------------------------------------------------------------------\u001b[0m",
            "\u001b[0;31mRuntimeError\u001b[0m                              Traceback (most recent call last)",
            "\u001b[0;32m<ipython-input-11-67c4d54213b7>\u001b[0m in \u001b[0;36m<module>\u001b[0;34m()\u001b[0m\n\u001b[0;32m----> 1\u001b[0;31m \u001b[0mmecab\u001b[0m \u001b[0;34m=\u001b[0m \u001b[0mMeCab\u001b[0m\u001b[0;34m.\u001b[0m\u001b[0mTagger\u001b[0m\u001b[0;34m(\u001b[0m\u001b[0;34m\"-Owakati\"\u001b[0m\u001b[0;34m)\u001b[0m\u001b[0;34m\u001b[0m\u001b[0;34m\u001b[0m\u001b[0m\n\u001b[0m",
            "\u001b[0;32m/usr/local/lib/python3.7/dist-packages/MeCab/__init__.py\u001b[0m in \u001b[0;36m__init__\u001b[0;34m(self, rawargs)\u001b[0m\n\u001b[1;32m    122\u001b[0m \u001b[0;34m\u001b[0m\u001b[0m\n\u001b[1;32m    123\u001b[0m         \u001b[0;32mtry\u001b[0m\u001b[0;34m:\u001b[0m\u001b[0;34m\u001b[0m\u001b[0;34m\u001b[0m\u001b[0m\n\u001b[0;32m--> 124\u001b[0;31m             \u001b[0msuper\u001b[0m\u001b[0;34m(\u001b[0m\u001b[0mTagger\u001b[0m\u001b[0;34m,\u001b[0m \u001b[0mself\u001b[0m\u001b[0;34m)\u001b[0m\u001b[0;34m.\u001b[0m\u001b[0m__init__\u001b[0m\u001b[0;34m(\u001b[0m\u001b[0margs\u001b[0m\u001b[0;34m)\u001b[0m\u001b[0;34m\u001b[0m\u001b[0;34m\u001b[0m\u001b[0m\n\u001b[0m\u001b[1;32m    125\u001b[0m         \u001b[0;32mexcept\u001b[0m \u001b[0mRuntimeError\u001b[0m\u001b[0;34m:\u001b[0m\u001b[0;34m\u001b[0m\u001b[0;34m\u001b[0m\u001b[0m\n\u001b[1;32m    126\u001b[0m             \u001b[0merror_info\u001b[0m\u001b[0;34m(\u001b[0m\u001b[0mrawargs\u001b[0m\u001b[0;34m)\u001b[0m\u001b[0;34m\u001b[0m\u001b[0;34m\u001b[0m\u001b[0m\n",
            "\u001b[0;31mRuntimeError\u001b[0m: "
          ]
        }
      ]
    },
    {
      "cell_type": "code",
      "metadata": {
        "colab": {
          "base_uri": "https://localhost:8080/"
        },
        "id": "FuV19RDMRb2x",
        "outputId": "55044836-9389-4ff5-e259-a2229584e221"
      },
      "source": [
        "pip install unidic-lite"
      ],
      "execution_count": 12,
      "outputs": [
        {
          "output_type": "stream",
          "text": [
            "Collecting unidic-lite\n",
            "\u001b[?25l  Downloading https://files.pythonhosted.org/packages/55/2b/8cf7514cb57d028abcef625afa847d60ff1ffbf0049c36b78faa7c35046f/unidic-lite-1.0.8.tar.gz (47.4MB)\n",
            "\u001b[K     |████████████████████████████████| 47.4MB 90kB/s \n",
            "\u001b[?25hBuilding wheels for collected packages: unidic-lite\n",
            "  Building wheel for unidic-lite (setup.py) ... \u001b[?25l\u001b[?25hdone\n",
            "  Created wheel for unidic-lite: filename=unidic_lite-1.0.8-cp37-none-any.whl size=47658825 sha256=c6e4eaa6303a57566736139aea6967fe2132453cc81ee8bc2d61ab9e41330a7c\n",
            "  Stored in directory: /root/.cache/pip/wheels/20/48/8d/b66d8361a27f58f41ec86640e4fd2640de0403a6367511eab7\n",
            "Successfully built unidic-lite\n",
            "Installing collected packages: unidic-lite\n",
            "Successfully installed unidic-lite-1.0.8\n"
          ],
          "name": "stdout"
        }
      ]
    },
    {
      "cell_type": "code",
      "metadata": {
        "id": "KTwYLzW9Rjcs"
      },
      "source": [
        "mecab = MeCab.Tagger(\"-Owakati\")"
      ],
      "execution_count": 13,
      "outputs": []
    },
    {
      "cell_type": "markdown",
      "metadata": {
        "id": "TnhjdXLWTTfa"
      },
      "source": [
        "### スクレイピングした情報を自然言語処理で解析し、名詞のみを頻出度が多い順に抽出"
      ]
    },
    {
      "cell_type": "code",
      "metadata": {
        "colab": {
          "base_uri": "https://localhost:8080/"
        },
        "id": "_NbsqzScR4Qy",
        "outputId": "9705b578-5bf2-420f-b6e4-87015f9eb468"
      },
      "source": [
        "green_text = green_page.text\n",
        "\n",
        "keyword_green_text = mecab.parseToNode(green_text)\n",
        "\n",
        "words_green_text = []\n",
        "while keyword_green_text:\n",
        "    #単語を取得\n",
        "    word = keyword_green_text.surface\n",
        "    #品詞を取得\n",
        "    pos = keyword_green_text.feature.split(\",\")[0]\n",
        "    if pos == '名詞':\n",
        "        words_green_text.append(word)\n",
        "#     print('{0}'.format(word))\n",
        "    #次の単語に進める\n",
        "    keyword_green_text = keyword_green_text.next\n",
        "    \n",
        "c = collections.Counter(words_green_text)\n",
        "print(c.most_common(30))"
      ],
      "execution_count": 14,
      "outputs": [
        {
          "output_type": "stream",
          "text": [
            "[('開発', 46), ('企業', 31), ('コグ', 26), ('ラフ', 26), ('会社', 24), ('データ', 23), ('事業', 21), ('株式', 20), ('万', 20), ('円', 20), ('求人', 19), ('ソフトウェア', 19), ('エンジニア', 19), ('分析', 18), ('募集', 18), ('プロジェクト', 17), ('技術', 14), ('サービス', 14), ('チーム', 14), ('業務', 14), ('東京', 13), ('転職', 12), ('0', 12), ('サイト', 11), ('方', 10), ('都', 10), ('アプリ', 10), ('Green', 9), ('世界', 9), ('システム', 9)]\n"
          ],
          "name": "stdout"
        }
      ]
    },
    {
      "cell_type": "code",
      "metadata": {
        "colab": {
          "base_uri": "https://localhost:8080/"
        },
        "id": "Y5QFAHDBSF32",
        "outputId": "16d3d2b4-2257-449c-9ce0-0d3b7e7b7096"
      },
      "source": [
        "wantedly_text = wantedly_page.text\n",
        "\n",
        "keyword_wantedly_text = mecab.parseToNode(wantedly_text)\n",
        "\n",
        "words_wantedly_text = []\n",
        "while keyword_wantedly_text:\n",
        "    #単語を取得\n",
        "    word = keyword_wantedly_text.surface\n",
        "    #品詞を取得\n",
        "    pos = keyword_wantedly_text.feature.split(\",\")[0]\n",
        "    if pos == '名詞':\n",
        "        words_wantedly_text.append(word)\n",
        "#     print('{0}'.format(word))\n",
        "    #次の単語に進める\n",
        "    keyword_wantedly_text = keyword_wantedly_text.next\n",
        "    \n",
        "c = collections.Counter(words_wantedly_text)\n",
        "print(c.most_common(30))"
      ],
      "execution_count": 15,
      "outputs": [
        {
          "output_type": "stream",
          "text": [
            "[('WantedlyApp', 212), ('18', 180), ('I', 179), ('nFlags', 172), ('available', 131), ('true', 130), ('id', 107), ('2', 72), ('n', 66), ('4', 64), ('d', 62), ('v', 60), ('false', 55), ('https', 48), ('a', 46), ('9', 43), ('5', 41), ('null', 40), ('e', 39), ('url', 38), ('f', 37), ('1', 32), ('b', 32), ('u', 32), ('0', 31), ('user', 31), ('company', 31), ('net', 31), ('feature', 31), ('cloudfront', 29)]\n"
          ],
          "name": "stdout"
        }
      ]
    },
    {
      "cell_type": "code",
      "metadata": {
        "colab": {
          "base_uri": "https://localhost:8080/"
        },
        "id": "g4ZVX4UdShsN",
        "outputId": "777ed023-3448-4188-b434-85e0e481c2b6"
      },
      "source": [
        "wantedly_story_text = wantedly_story_page.text\n",
        "\n",
        "keyword_wantedly_story_text = mecab.parseToNode(wantedly_story_text)\n",
        "\n",
        "words_wantedly_story_text = []\n",
        "while keyword_wantedly_story_text:\n",
        "    #単語を取得\n",
        "    word = keyword_wantedly_story_text.surface\n",
        "    #品詞を取得\n",
        "    pos = keyword_wantedly_story_text.feature.split(\",\")[0]\n",
        "    if pos == '名詞':\n",
        "        words_wantedly_story_text.append(word)\n",
        "#     print('{0}'.format(word))\n",
        "    #次の単語に進める\n",
        "    keyword_wantedly_story_text = keyword_wantedly_story_text.next\n",
        "    \n",
        "c = collections.Counter(words_wantedly_story_text)\n",
        "print(c.most_common(30))"
      ],
      "execution_count": 16,
      "outputs": [
        {
          "output_type": "stream",
          "text": [
            "[('WantedlyApp', 212), ('18', 184), ('I', 179), ('nFlags', 172), ('true', 138), ('available', 131), ('id', 122), ('v', 100), ('d', 97), ('9', 97), ('2', 94), ('4', 90), ('f', 81), ('e', 79), ('https', 76), ('post', 71), ('false', 69), ('b', 68), ('5', 66), ('graph', 62), ('a', 60), ('u', 59), ('company', 58), ('co', 58), ('url', 57), ('3', 56), ('path', 50), ('net', 50), ('94', 50), ('k', 48)]\n"
          ],
          "name": "stdout"
        }
      ]
    },
    {
      "cell_type": "code",
      "metadata": {
        "id": "K3eyOKMhTDvu"
      },
      "source": [
        ""
      ],
      "execution_count": null,
      "outputs": []
    }
  ]
}